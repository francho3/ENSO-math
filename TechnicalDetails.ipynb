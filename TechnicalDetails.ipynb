{
 "cells": [
  {
   "cell_type": "markdown",
   "metadata": {},
   "source": [
    "# Random technical facts that I will soon forget\n",
    "\n",
    "Not guaranteed to be up to date"
   ]
  },
  {
   "cell_type": "markdown",
   "metadata": {},
   "source": [
    "### &#8984; S to save MARKDOWN file in JupyterLab"
   ]
  },
  {
   "cell_type": "markdown",
   "metadata": {},
   "source": [
    "# Organizing info\n",
    "1. README.md on github\n",
    "2. Syllabus.md with dates and details\n",
    "3. Notebooks\n",
    "    - Lecture\n",
    "    - Activity\n",
    "    - Homework (blanks to fill in)"
   ]
  },
  {
   "cell_type": "markdown",
   "metadata": {},
   "source": [
    "# RISE: Jupyter slideshow extension\n",
    "\n",
    "https://rise.readthedocs.io/en/maint-5.5/index.html\n",
    "\n",
    "Use notebook *not* lab\n",
    "\n",
    "`cd ~/notebooks`  \n",
    "`source activate pangeo`  \n",
    "`jupyter notebook --no-browser ENSO\\ class/L01.ipynb`\n",
    "\n",
    "OR in lab\n",
    "<div>\n",
    "<img src=\"images/ClassicNotebook.png\" width=\"200\"/>\n",
    "</div>\n",
    "\n",
    "### Get the slide cell toolbar\n",
    "<div>\n",
    "<img src=\"images/slideshow_toolbar.png\" width=\"400\"/>\n",
    "</div>\n",
    "\n",
    "### Get the hide input in toolbar\n",
    "<div>\n",
    "<img src=\"images/slideshow_hide_input.png\" width=\"400\"/>\n",
    "</div>"
   ]
  },
  {
   "cell_type": "markdown",
   "metadata": {},
   "source": [
    "# Markup reference\n",
    "\n",
    "https://daringfireball.net/projects/markdown/syntax\n",
    "\n",
    "Two spaces at the end of a line and enter for a new line."
   ]
  },
  {
   "cell_type": "markdown",
   "metadata": {},
   "source": [
    "# Jupyter notebook reference\n",
    "https://jupyter-notebook.readthedocs.io/en/stable/index.html\n",
    "\n",
    "Chapter 5 Jupyter Notebook ecosystem  \n",
    "https://jupyter4edu.github.io/jupyter-edu-book/jupyter.html"
   ]
  },
  {
   "cell_type": "markdown",
   "metadata": {},
   "source": [
    "# Git things\n",
    "https://rabernat.github.io/research_computing_2018/intro-to-git.html\n",
    "\n",
    "Intro to numerical methods class.   \n",
    "https://github.com/mspieg/intro-numerical-methods"
   ]
  },
  {
   "cell_type": "markdown",
   "metadata": {},
   "source": [
    "### 1. Setting up ssh access\n",
    "https://kbroman.org/github_tutorial/pages/first_time.html"
   ]
  },
  {
   "cell_type": "markdown",
   "metadata": {},
   "source": [
    "Copy your public key (the contents of the newly-created id_rsa.pub file) into your clipboard. On a Mac, in the terminal/shell, type:\n",
    "\n",
    "`$ pbcopy < ~/.ssh/id_rsa.pub`\n",
    "\n",
    "Paste your ssh public key into your github account settings.\n",
    "\n",
    "Go to your github Account Settings\n",
    "- Click “SSH Keys” on the left.\n",
    "- Click “Add SSH Key” on the right.\n",
    "- Add a label (like “My laptop”) and paste the public key into the big text box.\n",
    "In a terminal/shell, type the following to test it:\n",
    "\n",
    "`$ ssh -T git@github.com`\n",
    "\n",
    "If it says something like the following, it worked:\n",
    "\n",
    "`Hi username! You've successfully authenticated, but Github does\n",
    "not provide shell access.`"
   ]
  },
  {
   "cell_type": "markdown",
   "metadata": {},
   "source": [
    "### 2. Create repo ENSO-math\n",
    "https://kbroman.org/github_tutorial/pages/init.html\n",
    "\n",
    "1. Created in github WITHOUT README.md\n",
    "2. cd ENSO\\ class/\n",
    "- `git init`\n",
    "- `git add 00Start.ipynb` \n",
    "- `git commit`\n",
    "-  `git remote add origin git@github.com:mktippett/ENSO-math` ONLY the first time\n",
    "- `git push -u origin master`\n",
    "3. Check that the notebook is there. Yes!"
   ]
  },
  {
   "cell_type": "markdown",
   "metadata": {},
   "source": [
    "### 3. Add new file (or stage a new file to be committed)\n",
    "4. Add README.md\n",
    "    - git add README.md \n",
    "    - git commit\n",
    "    - git push -u origin master"
   ]
  },
  {
   "cell_type": "markdown",
   "metadata": {},
   "source": [
    "## 3. How to turn in homework via github?\n",
    "Inspired by  \n",
    "https://rabernat.github.io/research_computing/assignment-submission-instructions.html"
   ]
  },
  {
   "cell_type": "markdown",
   "metadata": {},
   "source": [
    "\n",
    "Step 1 create a new repo on github with this name BUT WITH YOUR uni\n",
    "\n",
    "`apma4990-mkt14`\n",
    "\n",
    "Back to the jupyterhub. Click on the \"+\" sign and open a terminal\n",
    "\n",
    "Make a directory for your homework\n",
    "```\n",
    "jovyan@jupyter-mkt14-40columbia-2eedu:~$ mkdir apma4990-mkt14\n",
    "jovyan@jupyter-mkt14-40columbia-2eedu:~$ cd apma4990-mkt14\n",
    "jovyan@jupyter-mkt14-40columbia-2eedu:~/apma4990-mkt14$\n",
    "```\n",
    "\n",
    "Tell git who you are BUT WITH YOUR information\n",
    "```\n",
    "jovyan@jupyter-mkt14-40columbia-2eedu:~$ git config --global user.email \"mktippett@gmail.com\"\n",
    "jovyan@jupyter-mkt14-40columbia-2eedu:~$ git config --global user.name \"mktippett\"\n",
    "```\n",
    "\n",
    "Make a file to add \n",
    "```\n",
    "jovyan@jupyter-mkt14-40columbia-2eedu:~/apma4990-mkt14$ echo \"# testing123\" >> README.md\n",
    "```\n",
    "\n",
    "An \"only the first time\" command (?)\n",
    "```\n",
    "jovyan@jupyter-mkt14-40columbia-2eedu:~/apma4990-mkt14$ git init\n",
    "Initialized empty Git repository in /home/jovyan/apma4990-mkt14/.git/\n",
    "```\n",
    "\n",
    "The two of the three git commands that I know\n",
    "```\n",
    "jovyan@jupyter-mkt14-40columbia-2eedu:~/apma4990-mkt14$ git add README.md\n",
    "jovyan@jupyter-mkt14-40columbia-2eedu:~/apma4990-mkt14$ git commit -m \"first commit\"\n",
    "[master (root-commit) 48f82b6] first commit\n",
    " 1 file changed, 1 insertion(+)\n",
    " create mode 100644 README.md\n",
    " ```\n",
    "\n",
    "Two more \"only the first time\" commands (?)\n",
    "```\n",
    "jovyan@jupyter-mkt14-40columbia-2eedu:~/apma4990-mkt14$ git branch -M master\n",
    "jovyan@jupyter-mkt14-40columbia-2eedu:~/apma4990-mkt14$ git remote add origin https://github.com/mktippett/apma4990-mkt14\n",
    "```\n",
    "\n",
    "The third of the three commands\n",
    "```\n",
    "jovyan@jupyter-mkt14-40columbia-2eedu:~/apma4990-mkt14$ git push -u origin master\n",
    "Username for 'https://github.com': mktippett\n",
    "Password for 'https://mktippett@github.com': \n",
    "Enumerating objects: 3, done.\n",
    "Counting objects: 100% (3/3), done.\n",
    "Writing objects: 100% (3/3), 220 bytes | 220.00 KiB/s, done.\n",
    "Total 3 (delta 0), reused 0 (delta 0)\n",
    "To https://github.com/mktippett/apma4990-mkt14\n",
    " * [new branch]      master -> master\n",
    "Branch 'master' set up to track remote branch 'master' from 'origin'.\n",
    "```\n",
    "The **three** commands that I know\n",
    "```\n",
    "git add <file>\n",
    "git commit\n",
    "git push -u origin master\n",
    "```"
   ]
  },
  {
   "cell_type": "markdown",
   "metadata": {},
   "source": [
    "# Reusing code?\n",
    "http://scipy-lectures.org/intro/language/reusing_code.html"
   ]
  },
  {
   "cell_type": "markdown",
   "metadata": {},
   "source": [
    "### Convert a notebook to ...\n",
    "https://nbconvert.readthedocs.io/en/latest/usage.html\n",
    "\n",
    "`jupyter nbconvert --to FORMAT notebook.ipynb`"
   ]
  },
  {
   "cell_type": "markdown",
   "metadata": {},
   "source": [
    "# Download a github repository to a jupyter hub\n",
    "### `nbgitpuller`\n",
    "https://jupyterhub.github.io/nbgitpuller/\n",
    "\n",
    "https://jupyterhub.github.io/nbgitpuller/link.html\n",
    "\n",
    "https://apma4990.columbiajupyter2.org/hub/user-redirect/git-pull?repo=https%3A%2F%2Fgithub.com%2Fmktippett%2FENSO-math&urlpath=tree%2FENSO-math%2FREADME.md&branch=master\n",
    "\n",
    "1. Create the URL\n",
    "2. Click it?"
   ]
  },
  {
   "cell_type": "markdown",
   "metadata": {},
   "source": [
    "# Pangio binder\n",
    "https://binder.pangeo.io\n",
    "# Educational events on pangeo binder\n",
    "https://github.com/pangeo-data/pangeo/issues/440"
   ]
  },
  {
   "cell_type": "markdown",
   "metadata": {},
   "source": [
    "# Spellchecker for notebooks (not lab?)\n",
    "https://jupyter-contrib-nbextensions.readthedocs.io/en/latest/nbextensions/spellchecker/README.html#"
   ]
  },
  {
   "cell_type": "markdown",
   "metadata": {},
   "source": [
    "# Table of contents BEST EVER\n",
    "\n",
    "`conda install nodejs`\n",
    "`jupyter labextension install @jupyterlab/toc`\n",
    "then maybe restart"
   ]
  },
  {
   "cell_type": "markdown",
   "metadata": {},
   "source": [
    "# Rollback conda\n",
    "save yourself from yourself\n",
    "```\n",
    "conda list --revisions\n",
    "conda install --revision 50\n",
    "```"
   ]
  },
  {
   "cell_type": "markdown",
   "metadata": {},
   "source": [
    "# How to grade HW from github\n",
    "1. Go to JupyterHub\n",
    "2. Open a terminal\n",
    "3. mkdir STUDENTS; cd STUDENTS\n",
    "4. `git clone https://github.com/ibunge96/apma4990-ieb2123`\n",
    "5. cd to new repo\n",
    "6. `get pull` to update?\n"
   ]
  },
  {
   "cell_type": "markdown",
   "metadata": {},
   "source": [
    "### `nc-time-axis`\n",
    "Needed on the jupyterHub if not installed for plots and whatnot.\n",
    "\n",
    "`conda install -c conda-forge nc-time-axis`"
   ]
  },
  {
   "cell_type": "markdown",
   "metadata": {},
   "source": [
    "### Cloud files\n",
    "`~/Library/Mobile Documents/com~apple~CloudDoc`"
   ]
  },
  {
   "cell_type": "code",
   "execution_count": null,
   "metadata": {},
   "outputs": [],
   "source": []
  }
 ],
 "metadata": {
  "kernelspec": {
   "display_name": "Python 3",
   "language": "python",
   "name": "python3"
  },
  "language_info": {
   "codemirror_mode": {
    "name": "ipython",
    "version": 3
   },
   "file_extension": ".py",
   "mimetype": "text/x-python",
   "name": "python",
   "nbconvert_exporter": "python",
   "pygments_lexer": "ipython3",
   "version": "3.6.13"
  }
 },
 "nbformat": 4,
 "nbformat_minor": 4
}
