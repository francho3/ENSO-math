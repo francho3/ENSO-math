{
 "cells": [
  {
   "cell_type": "markdown",
   "metadata": {},
   "source": [
    "<table>\n",
    " <tr align=left><td><img align=left src=\"./images/CC-BY.png\">\n",
    " <td>Text provided under a Creative Commons Attribution license, CC-BY. All code is made available under the FSF-approved MIT license. (c) Michael K. Tippett</td>\n",
    "</table>"
   ]
  },
  {
   "cell_type": "markdown",
   "metadata": {
    "slideshow": {
     "slide_type": "slide"
    }
   },
   "source": [
    "# The mathematics of El Niño\n",
    "## APMA 4990\n",
    "### T & TH 11:40am-12:55pm\n",
    "M. K. Tippett\n",
    "mkt14@columbia.edu"
   ]
  },
  {
   "cell_type": "markdown",
   "metadata": {
    "slideshow": {
     "slide_type": "subslide"
    }
   },
   "source": [
    "### Goals/Outcomes\n",
    "1. Learn basic properties of the El Nino-Southern Oscilation.\n",
    "2. Do some applied math"
   ]
  },
  {
   "cell_type": "markdown",
   "metadata": {
    "slideshow": {
     "slide_type": "subslide"
    }
   },
   "source": [
    "### Structure\n",
    "1. Two classes per week. Reading assignments.\n",
    "    1. Tuesday -- Theory (lecture, reading discusion)\n",
    "    2. Thursday -- Practical data activity (essentially start the homework)\n",
    "    3. How to distribute material? Lectures, notebooks?\n",
    "2. Homework each week\n",
    "    1. How to turn in code?\n",
    "    2. Peer grading/evaluation?\n",
    "    3. Code review\n",
    "3. Final project\n",
    "    1. Outline due a month or so before the end of the term\n",
    "    2. Project presentations last week or so of class. \n",
    "    3. Final report due day of scheduled final.\n",
    "    "
   ]
  },
  {
   "cell_type": "markdown",
   "metadata": {},
   "source": [
    "### Topics\n",
    "1. Introduction. Overview of the course. What is ENSO? Why do we care?\n",
    "2. Finding ENSO in the data. Walker. PCA of SST and SLP.(This will get used later for PCA of Nino 3.4, multivariate linear prediction, flavors).\n",
    "    1. Review SVD and relation to PCA. Use the chapter.\n",
    "3. Nino 3.4. If we just look at PC1, then we might as well just look at Nino 3.4. Analysis of cyclo-stationary data. Mean and variance that depend on month. Fourier fitting. Least-squares. AIC to choose the number of modes.\n",
    "4. Correlation/regression of Nino 3.4 with things. Impacts. Temperature. Precipitation. Significance testing. Multiple comparisons. Field significance. \n",
    "5. Serial correlation.  Autocorrelation. Autocorrelation as a function on month. AR models. Periodic AR models. Prediction. Selection of model order. AIC again. Model selection chapter from book. \n",
    "6. Probabilistic forecasts. From AR models. From dynamical models (ensembles). Categorical and continuous. \n",
    "7. Skill and quality assessment. Brier score. Log score. Reliability. ROC. Betting on ENSO.\n",
    "8. A little physics. ENSO is a coupled system. Knowing things other than Nino 3.4 help to predict Nino 3.4. Multivariate PC regression model (LIM) using SST. Subsurface? Train on observations or models.\n",
    "9. CCA. Using SST to predict US climate.\n",
    "10. ENSO diversity. Two PCs.\n",
    "11. Linear inverse model. Mulitvariate regression.\n",
    "12. Other topics. \n",
    "    1. Flavors of ENSO. https://www.climate.gov/news-features/blogs/enso/enso-flavor-month\n",
    "    2. ENSO in a warmer climate. \n",
    "12. Predictability. Signal and noise. \n",
    "    1. Comparing SOI and Nino 3.4 in NMME models.\n",
    "12. Predicting ENSO strength\n",
    "13. Impacts. Further afield. \n",
    "    1. Fish https://scied.ucar.edu/el-nino-fish-tale\n",
    "    2. Hurricane https://www.climate.gov/news-features/blogs/enso/impacts-el-niño-and-la-niña-hurricane-season\n",
    "    3. Tornado https://www.climate.gov/news-features/blogs/enso/enso-and-tornadoes\n",
    "    4. Health https://www.climate.gov/news-features/blogs/enso/enso-and-your-health-how-2015-16-el-niño-led-early-warnings-global-disease\n",
    "    5. Conflict https://www.nature.com/articles/nature10311\n"
   ]
  },
  {
   "cell_type": "markdown",
   "metadata": {},
   "source": [
    "### Big picture\n",
    "1. Finding El Niño\n",
    "2. Predicting El Niño\n",
    "3. Managing ENSO (impacts)"
   ]
  },
  {
   "cell_type": "markdown",
   "metadata": {},
   "source": [
    "### Readings\n",
    "1. Chapters from the statistics book\n",
    "1. Articles\n",
    "1. ENSO blog https://www.climate.gov/news-features/blogs/enso/index-page-enso-blog-posts\n",
    "1. History of ENSO prediction \n",
    "    1. <a href=\"docs/chapter10_final.pdf\">Chapter 10. ENSO Prediction</a>\n",
    "    1. https://www.climate.gov/news-features/blogs/enso/predicting-el-niño-then-and-now\n",
    "1. A chapter from Nate Silver's signal and noise?"
   ]
  },
  {
   "cell_type": "markdown",
   "metadata": {},
   "source": [
    "Other ideas as they come to me\n",
    "1. Lorentz model with oscillator in the style of Palmer\n",
    "2. Delayed oscillator\n",
    "3. Walker papers?\n",
    "4. Correlation of Nino 3.4 with maps of SLP etc can be done before seasonal cycle if one season is done at a time, e.g., DJF.\n",
    "5. Something about atmospheric waves to explain the teleconnections."
   ]
  },
  {
   "cell_type": "markdown",
   "metadata": {},
   "source": [
    "## Modules\n",
    "1. Time series\n",
    "1. Multivariate\n",
    "    1. Climate data is a tall matrix\n",
    "        1. Shaping of data \n",
    "    1. SVD/PCA \n",
    "    1. LIM/Multivariate regression\n",
    "    1. CCA"
   ]
  },
  {
   "cell_type": "code",
   "execution_count": null,
   "metadata": {},
   "outputs": [],
   "source": []
  }
 ],
 "metadata": {
  "celltoolbar": "Slideshow",
  "kernelspec": {
   "display_name": "Python 3",
   "language": "python",
   "name": "python3"
  },
  "language_info": {
   "codemirror_mode": {
    "name": "ipython",
    "version": 3
   },
   "file_extension": ".py",
   "mimetype": "text/x-python",
   "name": "python",
   "nbconvert_exporter": "python",
   "pygments_lexer": "ipython3",
   "version": "3.6.10"
  }
 },
 "nbformat": 4,
 "nbformat_minor": 4
}
